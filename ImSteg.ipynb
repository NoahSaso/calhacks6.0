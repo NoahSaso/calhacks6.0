{
 "cells": [
  {
   "cell_type": "code",
   "execution_count": 5,
   "metadata": {},
   "outputs": [],
   "source": [
    "'''\n",
    "IMPORT STATEMETNS\n",
    "'''\n",
    "import numpy as np\n",
    "import cv2\n",
    "from utils import *\n",
    "from PIL import Image\n",
    "import random"
   ]
  },
  {
   "cell_type": "code",
   "execution_count": 15,
   "metadata": {},
   "outputs": [],
   "source": [
    "def embed(filename, string, password): #filename = string, string = text to encode, password = string\n",
    "    img = cv2.imread(filename, 1) #image is in opencv format\n",
    "    zeroPadder = makeZeroPadder(8) #8 bits per color, 0-255\n",
    "    imSize = mul(img.shape)\n",
    "    imgR, imgG, imgB = cv2.split(img)\n",
    "    string = str.join([zeroPad(bin(ord(c))[2:]) for c in string]) #\"100100101001001\"\n",
    "    if len(string) > 3 * imSize:\n",
    "        print(\"wow, you made a string too big.\")\n",
    "        return\n",
    "    indices = randomSample(password, len(string), imSize)\n",
    "    \n",
    "    for c in range(len(string)):\n",
    "        i = indices[c]\n",
    "        bit = int(string[i])\n",
    "        if i < imSize:\n",
    "            imgR[i] = bit\n",
    "        elif i < 2*imSize:\n",
    "            imgG[i] = bit\n",
    "        else:\n",
    "            imgB[i] = bit\n",
    "            \n",
    "    rgb = np.dstack((imgR, imgG, imgB))\n",
    "    return rgb\n",
    "            \n",
    "\n",
    "def randomSample(pw, length, s): #pw is string, length = len of string dimensions is tuple (l, w)\n",
    "    passHash = hash(pw)\n",
    "    random.seed(passHash)\n",
    "    result = random.sample(range(s), length)\n",
    "    return result\n",
    "    "
   ]
  },
  {
   "cell_type": "code",
   "execution_count": null,
   "metadata": {},
   "outputs": [],
   "source": []
  },
  {
   "cell_type": "code",
   "execution_count": null,
   "metadata": {},
   "outputs": [],
   "source": []
  },
  {
   "cell_type": "code",
   "execution_count": null,
   "metadata": {},
   "outputs": [],
   "source": []
  },
  {
   "cell_type": "code",
   "execution_count": null,
   "metadata": {},
   "outputs": [],
   "source": []
  },
  {
   "cell_type": "code",
   "execution_count": null,
   "metadata": {},
   "outputs": [],
   "source": []
  },
  {
   "cell_type": "code",
   "execution_count": null,
   "metadata": {},
   "outputs": [],
   "source": []
  },
  {
   "cell_type": "code",
   "execution_count": null,
   "metadata": {},
   "outputs": [],
   "source": []
  },
  {
   "cell_type": "code",
   "execution_count": null,
   "metadata": {},
   "outputs": [],
   "source": []
  }
 ],
 "metadata": {
  "kernelspec": {
   "display_name": "Python 3",
   "language": "python",
   "name": "python3"
  },
  "language_info": {
   "codemirror_mode": {
    "name": "ipython",
    "version": 3
   },
   "file_extension": ".py",
   "mimetype": "text/x-python",
   "name": "python",
   "nbconvert_exporter": "python",
   "pygments_lexer": "ipython3",
   "version": "3.6.5"
  }
 },
 "nbformat": 4,
 "nbformat_minor": 2
}
